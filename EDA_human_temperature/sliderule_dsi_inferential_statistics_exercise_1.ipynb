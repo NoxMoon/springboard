{
 "cells": [
  {
   "cell_type": "markdown",
   "metadata": {},
   "source": [
    "# What is the True Normal Human Body Temperature? \n",
    "\n",
    "#### Background\n",
    "\n",
    "The mean normal body temperature was held to be 37$^{\\circ}$C or 98.6$^{\\circ}$F for more than 120 years since it was first conceptualized and reported by Carl Wunderlich in a famous 1868 book. But, is this value statistically correct?"
   ]
  },
  {
   "cell_type": "markdown",
   "metadata": {},
   "source": [
    "<h3>Exercises</h3>\n",
    "\n",
    "<p>In this exercise, you will analyze a dataset of human body temperatures and employ the concepts of hypothesis testing, confidence intervals, and statistical significance.</p>\n",
    "\n",
    "<p>Answer the following questions <b>in this notebook below and submit to your Github account</b>.</p> \n",
    "\n",
    "<ol>\n",
    "<li>  Is the distribution of body temperatures normal? \n",
    "    <ul>\n",
    "    <li> Although this is not a requirement for the Central Limit Theorem to hold (read the introduction on Wikipedia's page about the CLT carefully: https://en.wikipedia.org/wiki/Central_limit_theorem), it gives us some peace of mind that the population may also be normally distributed if we assume that this sample is representative of the population.\n",
    "    <li> Think about the way you're going to check for the normality of the distribution. Graphical methods are usually used first, but there are also other ways: https://en.wikipedia.org/wiki/Normality_test\n",
    "    </ul>\n",
    "<li>  Is the sample size large? Are the observations independent?\n",
    "    <ul>\n",
    "    <li> Remember that this is a condition for the Central Limit Theorem, and hence the statistical tests we are using, to apply.\n",
    "    </ul>\n",
    "<li>  Is the true population mean really 98.6 degrees F?\n",
    "    <ul>\n",
    "    <li> First, try a bootstrap hypothesis test.\n",
    "    <li> Now, let's try frequentist statistical testing. Would you use a one-sample or two-sample test? Why?\n",
    "    <li> In this situation, is it appropriate to use the $t$ or $z$ statistic? \n",
    "    <li> Now try using the other test. How is the result be different? Why?\n",
    "    </ul>\n",
    "<li>  Draw a small sample of size 10 from the data and repeat both frequentist tests. \n",
    "    <ul>\n",
    "    <li> Which one is the correct one to use? \n",
    "    <li> What do you notice? What does this tell you about the difference in application of the $t$ and $z$ statistic?\n",
    "    </ul>\n",
    "<li>  At what temperature should we consider someone's temperature to be \"abnormal\"?\n",
    "    <ul>\n",
    "    <li> As in the previous example, try calculating everything using the boostrap approach, as well as the frequentist approach.\n",
    "    <li> Start by computing the margin of error and confidence interval. When calculating the confidence interval, keep in mind that you should use the appropriate formula for one draw, and not N draws.\n",
    "    </ul>\n",
    "<li>  Is there a significant difference between males and females in normal temperature?\n",
    "    <ul>\n",
    "    <li> What testing approach did you use and why?\n",
    "    <li> Write a story with your conclusion in the context of the original problem.\n",
    "    </ul>\n",
    "</ol>\n",
    "\n",
    "You can include written notes in notebook cells using Markdown: \n",
    "   - In the control panel at the top, choose Cell > Cell Type > Markdown\n",
    "   - Markdown syntax: http://nestacms.com/docs/creating-content/markdown-cheat-sheet\n",
    "\n",
    "#### Resources\n",
    "\n",
    "+ Information and data sources: http://www.amstat.org/publications/jse/datasets/normtemp.txt, http://www.amstat.org/publications/jse/jse_data_archive.htm\n",
    "+ Markdown syntax: http://nestacms.com/docs/creating-content/markdown-cheat-sheet\n",
    "\n",
    "****"
   ]
  },
  {
   "cell_type": "code",
   "execution_count": 1,
   "metadata": {},
   "outputs": [
    {
     "data": {
      "text/html": [
       "<div>\n",
       "<style scoped>\n",
       "    .dataframe tbody tr th:only-of-type {\n",
       "        vertical-align: middle;\n",
       "    }\n",
       "\n",
       "    .dataframe tbody tr th {\n",
       "        vertical-align: top;\n",
       "    }\n",
       "\n",
       "    .dataframe thead th {\n",
       "        text-align: right;\n",
       "    }\n",
       "</style>\n",
       "<table border=\"1\" class=\"dataframe\">\n",
       "  <thead>\n",
       "    <tr style=\"text-align: right;\">\n",
       "      <th></th>\n",
       "      <th>temperature</th>\n",
       "      <th>gender</th>\n",
       "      <th>heart_rate</th>\n",
       "    </tr>\n",
       "  </thead>\n",
       "  <tbody>\n",
       "    <tr>\n",
       "      <th>0</th>\n",
       "      <td>99.3</td>\n",
       "      <td>F</td>\n",
       "      <td>68.0</td>\n",
       "    </tr>\n",
       "    <tr>\n",
       "      <th>1</th>\n",
       "      <td>98.4</td>\n",
       "      <td>F</td>\n",
       "      <td>81.0</td>\n",
       "    </tr>\n",
       "    <tr>\n",
       "      <th>2</th>\n",
       "      <td>97.8</td>\n",
       "      <td>M</td>\n",
       "      <td>73.0</td>\n",
       "    </tr>\n",
       "    <tr>\n",
       "      <th>3</th>\n",
       "      <td>99.2</td>\n",
       "      <td>F</td>\n",
       "      <td>66.0</td>\n",
       "    </tr>\n",
       "    <tr>\n",
       "      <th>4</th>\n",
       "      <td>98.0</td>\n",
       "      <td>F</td>\n",
       "      <td>73.0</td>\n",
       "    </tr>\n",
       "  </tbody>\n",
       "</table>\n",
       "</div>"
      ],
      "text/plain": [
       "   temperature gender  heart_rate\n",
       "0         99.3      F        68.0\n",
       "1         98.4      F        81.0\n",
       "2         97.8      M        73.0\n",
       "3         99.2      F        66.0\n",
       "4         98.0      F        73.0"
      ]
     },
     "execution_count": 1,
     "metadata": {},
     "output_type": "execute_result"
    }
   ],
   "source": [
    "import pandas as pd\n",
    "import numpy as np\n",
    "from scipy import stats\n",
    "import matplotlib.pyplot as plt\n",
    "import seaborn as sns\n",
    "df = pd.read_csv('data/human_body_temperature.csv')\n",
    "df.head()"
   ]
  },
  {
   "cell_type": "markdown",
   "metadata": {},
   "source": [
    "#### 1. Is the distribution of body temperatures normal\n",
    "From the histogram, we can see the temperature distribution is close to normal distribution."
   ]
  },
  {
   "cell_type": "code",
   "execution_count": 2,
   "metadata": {},
   "outputs": [
    {
     "data": {
      "image/png": "[encoded data removed]",
      "text/plain": [
       "<Figure size 720x360 with 1 Axes>"
      ]
     },
     "metadata": {},
     "output_type": "display_data"
    }
   ],
   "source": [
    "plt.figure(figsize = (10,5))\n",
    "sns.distplot(df['temperature'])\n",
    "x = np.arange(95, 101, 0.01)\n",
    "mu = df['temperature'].mean()\n",
    "sg = df['temperature'].std()\n",
    "y = np.exp(-(x-mu)**2/(2*sg**2)) / np.sqrt(2*np.pi*sg**2)\n",
    "plt.plot(x, y)\n",
    "plt.legend(['Sample Distribution','Normal distribution'])\n",
    "plt.show()"
   ]
  },
  {
   "cell_type": "markdown",
   "metadata": {},
   "source": [
    "We can also check the KL divergence between the distribution and normal distribution with parameters mean and standard deviation estimated by the sample mean and standard deviation."
   ]
  },
  {
   "cell_type": "code",
   "execution_count": 3,
   "metadata": {},
   "outputs": [
    {
     "name": "stdout",
     "output_type": "stream",
     "text": [
      "KL divergence: 0.7315910329223548\n"
     ]
    }
   ],
   "source": [
    "bins = np.arange(95,101,0.25)\n",
    "dist, _ = np.histogram(df['temperature'], bins=bins)\n",
    "temp = (bins[1:] + bins[:-1])/2\n",
    "normal_dist = df['temperature'].mean() + df['temperature'].std() * temp\n",
    "KL = stats.entropy(dist, normal_dist)\n",
    "print(\"KL divergence:\", KL)"
   ]
  },
  {
   "cell_type": "markdown",
   "metadata": {},
   "source": [
    "#### 2. Is the sample size large? Are the observations independent?\n",
    "\n",
    "Sample size = 130, this should be large enough for z-test or t-test. Usually we can assume people's body temperature/heart rate are independent of each other, if the sample is drawn randomly."
   ]
  },
  {
   "cell_type": "code",
   "execution_count": 4,
   "metadata": {},
   "outputs": [
    {
     "name": "stdout",
     "output_type": "stream",
     "text": [
      "sample size: 130\n"
     ]
    }
   ],
   "source": [
    "N = df.shape[0]\n",
    "print(\"sample size:\", N)"
   ]
  },
  {
   "cell_type": "markdown",
   "metadata": {},
   "source": [
    "#### 3. Is the true population mean really 98.6 degrees F?\n",
    "\n",
    "Do bootstrap test, assuming the true population mean is 98.6 $^\\circ$F, we can find the 95% confidence interval using 10000 bootstrap samples, which does not contain the observed mean: 98.25 $^\\circ$F, so it is unlikely that the true population mean is 98.6 $^\\circ$F."
   ]
  },
  {
   "cell_type": "code",
   "execution_count": 5,
   "metadata": {},
   "outputs": [
    {
     "name": "stdout",
     "output_type": "stream",
     "text": [
      "observed mean 98.24923076923075 confidence inteval [98.47538462 98.72461538]\n"
     ]
    }
   ],
   "source": [
    "def bootstrap_test(data, func, size=1):\n",
    "    bs_rep = np.empty(size)\n",
    "    for i in range(size):\n",
    "        bs_sample = np.random.choice(data, size=len(data))\n",
    "        bs_rep[i] = func(bs_sample)\n",
    "    return bs_rep\n",
    "\n",
    "obs_mean = df['temperature'].mean()\n",
    "temp_translated = df['temperature'].values - obs_mean + 98.6\n",
    "bs_rep = bootstrap_test(temp_translated, np.mean, size=10000)\n",
    "conf_int = np.percentile(bs_rep, [2.5, 97.5])\n",
    "print(\"observed mean\", obs_mean, \"confidence inteval\", conf_int)"
   ]
  },
  {
   "cell_type": "markdown",
   "metadata": {},
   "source": [
    "We are given one sample and are asked to do hypothesis on the population mean, so we should do one sample test.\n",
    "\n",
    "The population standard deviation is unknown, so it's better to use t-test. If we do the z-test, we find the p-value is smaller, because normal distribution has a smaller tail than t-distribution, so the extreme values is less likely to happen."
   ]
  },
  {
   "cell_type": "code",
   "execution_count": 6,
   "metadata": {},
   "outputs": [
    {
     "data": {
      "text/plain": [
       "Ttest_1sampResult(statistic=-5.4548232923645195, pvalue=2.4106320415561276e-07)"
      ]
     },
     "execution_count": 6,
     "metadata": {},
     "output_type": "execute_result"
    }
   ],
   "source": [
    "stats.ttest_1samp(df['temperature'], 98.6)"
   ]
  },
  {
   "cell_type": "code",
   "execution_count": 7,
   "metadata": {},
   "outputs": [
    {
     "name": "stdout",
     "output_type": "stream",
     "text": [
      "z-test result: statistics = -5.454823, p-value = 0.000000\n"
     ]
    }
   ],
   "source": [
    "obs_mean = df['temperature'].mean()\n",
    "obs_std = df['temperature'].std()\n",
    "z = (obs_mean - 98.6)/(obs_std/np.sqrt(N))\n",
    "p = stats.norm.cdf(z)\n",
    "print(\"z-test result: statistics = %f, p-value = %f\"%(z,p))"
   ]
  },
  {
   "cell_type": "markdown",
   "metadata": {},
   "source": [
    "#### 4. Draw a small sample of size 10 from the data and repeat both frequentist tests.\n",
    "\n",
    "Usually z-test need sample size > 30, so here we should use t-test. But anyway, we will try do both tests for 5 times. For small samples, the p-values becomes much large in t-test. This should be more obvious in t-test, because in t-test the sample size not only affect the standard error, but also affect the degree of freedom. With small sample size (small degree of freedom), the t-distribution has a larger tail."
   ]
  },
  {
   "cell_type": "code",
   "execution_count": 8,
   "metadata": {},
   "outputs": [
    {
     "name": "stdout",
     "output_type": "stream",
     "text": [
      "Ttest_1sampResult(statistic=-0.5351865696615391, pvalue=0.605490033230097)\n",
      "z-test result: statistics = -1.929643, p-value = 0.026826\n",
      "\n",
      "\n",
      "Ttest_1sampResult(statistic=-1.2270192370855353, pvalue=0.2509439253948832)\n",
      "z-test result: statistics = -4.424081, p-value = 0.000005\n",
      "\n",
      "\n",
      "Ttest_1sampResult(statistic=-3.42593132309539, pvalue=0.0075567020964975576)\n",
      "z-test result: statistics = -12.352371, p-value = 0.000000\n",
      "\n",
      "\n",
      "Ttest_1sampResult(statistic=-2.7187499999999254, pvalue=0.023656171806071147)\n",
      "z-test result: statistics = -9.802593, p-value = 0.000000\n",
      "\n",
      "\n",
      "Ttest_1sampResult(statistic=-1.8655483309128502, pvalue=0.09497014162051878)\n",
      "z-test result: statistics = -6.726330, p-value = 0.000000\n",
      "\n",
      "\n"
     ]
    }
   ],
   "source": [
    "for _ in range(5):\n",
    "    sample10 = df['temperature'].sample(10)\n",
    "    print(stats.ttest_1samp(sample10, 98.6))\n",
    "\n",
    "    obs_mean = sample10.mean()\n",
    "    obs_std = sample10.std()\n",
    "    z = (obs_mean - 98.6)/(obs_std/np.sqrt(N))\n",
    "    p = stats.norm.cdf(z)\n",
    "    print(\"z-test result: statistics = %f, p-value = %f\"%(z,p))\n",
    "    print('\\n')"
   ]
  },
  {
   "cell_type": "markdown",
   "metadata": {},
   "source": [
    "#### 5. At what temperature should we consider someone's temperature to be \"abnormal\"?\n",
    "\n",
    "We can estimate the 99% confidence interval with t statistics. The confidence interval is (98.081, 98.417), so temperature < 98.081 $^\\circ$F or > 98.417 $^\\circ$F can be considered as \"abnormal\"."
   ]
  },
  {
   "cell_type": "code",
   "execution_count": 9,
   "metadata": {},
   "outputs": [
    {
     "data": {
      "text/plain": [
       "(98.08110824239756, 98.41735329606394)"
      ]
     },
     "execution_count": 9,
     "metadata": {},
     "output_type": "execute_result"
    }
   ],
   "source": [
    "t = stats.t.ppf(1-0.005, N-1)\n",
    "obs_mean = df['temperature'].mean()\n",
    "obs_std = df['temperature'].std()\n",
    "SE = obs_std/np.sqrt(N)\n",
    "conf_int = (obs_mean - t*SE, obs_mean + t*SE)\n",
    "conf_int"
   ]
  },
  {
   "cell_type": "markdown",
   "metadata": {},
   "source": [
    "#### 6. Is there a significant difference between males and females in normal temperature?\n",
    "\n",
    "In this case, we want to compare two group means, both group contains 65 samples, and we check the histogram that both distributions are not two skews, so a two sample t-test would be appropriate.\n",
    "\n",
    "The null hypothesis would be there is no significant difference between males and females temperature."
   ]
  },
  {
   "cell_type": "code",
   "execution_count": 10,
   "metadata": {},
   "outputs": [
    {
     "name": "stdout",
     "output_type": "stream",
     "text": [
      "F    65\n",
      "M    65\n",
      "Name: gender, dtype: int64\n"
     ]
    },
    {
     "data": {
      "image/png": "[encoded data removed]",
      "text/plain": [
       "<Figure size 432x288 with 1 Axes>"
      ]
     },
     "metadata": {},
     "output_type": "display_data"
    }
   ],
   "source": [
    "print(df['gender'].value_counts())\n",
    "sns.distplot(df['temperature'].loc[df['gender']=='M'])\n",
    "sns.distplot(df['temperature'].loc[df['gender']=='F'])\n",
    "plt.legend(('Male','Female'))\n",
    "plt.show()"
   ]
  },
  {
   "cell_type": "markdown",
   "metadata": {},
   "source": [
    "The p-value is ~0.0239, which is means with 5% statistical significant, we can reject the null hypothesis, and conclude that there is a significant difference between males and females temperature."
   ]
  },
  {
   "cell_type": "code",
   "execution_count": 11,
   "metadata": {},
   "outputs": [
    {
     "data": {
      "text/plain": [
       "Ttest_indResult(statistic=-2.2854345381656103, pvalue=0.02393188312239561)"
      ]
     },
     "execution_count": 11,
     "metadata": {},
     "output_type": "execute_result"
    }
   ],
   "source": [
    "temp_M = df['temperature'].loc[df['gender']=='M']\n",
    "temp_F = df['temperature'].loc[df['gender']=='F']\n",
    "\n",
    "stats.ttest_ind(temp_M, temp_F)"
   ]
  },
  {
   "cell_type": "code",
   "execution_count": null,
   "metadata": {},
   "outputs": [],
   "source": []
  }
 ],
 "metadata": {
  "kernelspec": {
   "display_name": "Python 3",
   "language": "python",
   "name": "python3"
  },
  "language_info": {
   "codemirror_mode": {
    "name": "ipython",
    "version": 3
   },
   "file_extension": ".py",
   "mimetype": "text/x-python",
   "name": "python",
   "nbconvert_exporter": "python",
   "pygments_lexer": "ipython3",
   "version": "3.6.5"
  }
 },
 "nbformat": 4,
 "nbformat_minor": 1
}
